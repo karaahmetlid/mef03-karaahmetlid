{
 "cells": [
  {
   "cell_type": "markdown",
   "metadata": {
    "kernel": "SoS"
   },
   "source": [
    "#Sporify Group Project - Yelp Dataset"
   ]
  },
  {
   "cell_type": "markdown",
   "metadata": {
    "kernel": "SoS"
   },
   "source": [
    "###Anılcan Atik\n",
    "###Dost Karaahmetli\n",
    "###Kutay Akalın\n",
    "###Tunahan Kılıç"
   ]
  },
  {
   "cell_type": "code",
   "execution_count": 1,
   "metadata": {
    "kernel": "Bash"
   },
   "outputs": [
    {
     "name": "stdout",
     "output_type": "stream",
     "text": [
      "Starting PostgreSQL 11 database server: main.\n"
     ]
    }
   ],
   "source": [
    "sudo service postgresql start"
   ]
  },
  {
   "cell_type": "code",
   "execution_count": 2,
   "metadata": {
    "kernel": "Bash"
   },
   "outputs": [],
   "source": [
    "datadir=~/data\n",
    "yelpdir=$datadir/Yelp"
   ]
  },
  {
   "cell_type": "code",
   "execution_count": 3,
   "metadata": {
    "kernel": "Bash"
   },
   "outputs": [
    {
     "name": "stdout",
     "output_type": "stream",
     "text": [
      "total 347644\n",
      "-rw-r--r-- 1 jovyan root   1772959 Jan  6 13:02  charlotte_business.csv\n",
      "-rw-r--r-- 1 jovyan root 219287205 Jan  6 13:02  charlotte_review.csv\n",
      "-rw-r--r-- 1 jovyan root 134696096 Jan  6 13:03  charlotte_user.csv\n",
      "-rw-r--r-- 1 jovyan root    220735 Jan  6 13:03 'yelpdb (1).ipynb'\n"
     ]
    }
   ],
   "source": [
    "ls -l $yelpdir/"
   ]
  },
  {
   "cell_type": "code",
   "execution_count": 4,
   "metadata": {
    "kernel": "Python 3"
   },
   "outputs": [],
   "source": [
    "%load_ext sql"
   ]
  },
  {
   "cell_type": "code",
   "execution_count": 5,
   "metadata": {
    "kernel": "Python 3"
   },
   "outputs": [
    {
     "data": {
      "text/plain": [
       "'Connected: postgres@postgres'"
      ]
     },
     "execution_count": 5,
     "metadata": {},
     "output_type": "execute_result"
    }
   ],
   "source": [
    "%sql postgres://postgres@localhost/postgres"
   ]
  },
  {
   "cell_type": "code",
   "execution_count": 6,
   "metadata": {
    "kernel": "Bash"
   },
   "outputs": [],
   "source": [
    "sudo mkdir -p /pg1"
   ]
  },
  {
   "cell_type": "code",
   "execution_count": 7,
   "metadata": {
    "kernel": "Bash"
   },
   "outputs": [
    {
     "name": "stdout",
     "output_type": "stream",
     "text": [
      "root root\n"
     ]
    }
   ],
   "source": [
    "stat -c \"%U %G\" /pg1"
   ]
  },
  {
   "cell_type": "code",
   "execution_count": 8,
   "metadata": {
    "kernel": "Bash"
   },
   "outputs": [],
   "source": [
    "sudo chown -R postgres:postgres /pg1"
   ]
  },
  {
   "cell_type": "code",
   "execution_count": 9,
   "metadata": {
    "kernel": "Python 3"
   },
   "outputs": [
    {
     "name": "stdout",
     "output_type": "stream",
     "text": [
      " * postgres://postgres@localhost/postgres\n",
      "Done.\n",
      "Done.\n"
     ]
    },
    {
     "data": {
      "text/plain": [
       "[]"
      ]
     },
     "execution_count": 9,
     "metadata": {},
     "output_type": "execute_result"
    }
   ],
   "source": [
    "%%sql\n",
    "-- create a new tablespace\n",
    "END;\n",
    "CREATE TABLESPACE pg1 LOCATION '/pg1';"
   ]
  },
  {
   "cell_type": "code",
   "execution_count": 10,
   "metadata": {
    "kernel": "Python 3"
   },
   "outputs": [
    {
     "name": "stdout",
     "output_type": "stream",
     "text": [
      " * postgres://postgres@localhost/postgres\n",
      "Done.\n",
      "Done.\n"
     ]
    },
    {
     "data": {
      "text/plain": [
       "[]"
      ]
     },
     "execution_count": 10,
     "metadata": {},
     "output_type": "execute_result"
    }
   ],
   "source": [
    "%%sql\n",
    "-- create a new database imdb1 on pg1 tablespace\n",
    "END;\n",
    "CREATE DATABASE charlotteyelp\n",
    "TABLESPACE = pg1;"
   ]
  },
  {
   "cell_type": "code",
   "execution_count": 24,
   "metadata": {
    "kernel": "Python 3"
   },
   "outputs": [
    {
     "name": "stdout",
     "output_type": "stream",
     "text": [
      " * postgres://postgres@localhost/postgres\n",
      "Done.\n"
     ]
    },
    {
     "data": {
      "text/plain": [
       "[]"
      ]
     },
     "execution_count": 24,
     "metadata": {},
     "output_type": "execute_result"
    }
   ],
   "source": [
    "%%sql\n",
    "TRUNCATE TABLE Users;"
   ]
  },
  {
   "cell_type": "code",
   "execution_count": 11,
   "metadata": {
    "kernel": "Python 3"
   },
   "outputs": [
    {
     "name": "stdout",
     "output_type": "stream",
     "text": [
      " * postgres://postgres@localhost/postgres\n",
      "Done.\n"
     ]
    },
    {
     "data": {
      "text/plain": [
       "[]"
      ]
     },
     "execution_count": 11,
     "metadata": {},
     "output_type": "execute_result"
    }
   ],
   "source": [
    "%%sql\n",
    "-- create a new table\n",
    "CREATE TABLE charlotteuser\n",
    "( \n",
    "  user_id text,\n",
    "  name text,\n",
    "  review_count integer,\n",
    "  yelping_since date,\n",
    "  friends text,\n",
    "  useful integer,\n",
    "  funny integer,\n",
    "  cool integer,\n",
    "    fans integer,\n",
    "    elite text,\n",
    "    average_stars numeric,\n",
    "    compliment_hot integer,\n",
    "    compliment_more integer,\n",
    "    compliment_profile integer,\n",
    "    compliment_cute integer,\n",
    "    compliment_list integer,\n",
    "    compliment_note integer,\n",
    "    compliment_plain integer,\n",
    "    compliment_cool integer,\n",
    "    compliment_funny integer,\n",
    "    compliment_writer integer,\n",
    "    compliment_photos integer\n",
    ");"
   ]
  },
  {
   "cell_type": "code",
   "execution_count": null,
   "metadata": {
    "kernel": "Bash"
   },
   "outputs": [],
   "source": []
  },
  {
   "cell_type": "code",
   "execution_count": 12,
   "metadata": {
    "kernel": "Python 3",
    "scrolled": true
   },
   "outputs": [
    {
     "name": "stdout",
     "output_type": "stream",
     "text": [
      " * postgres://postgres@localhost/postgres\n",
      "95845 rows affected.\n"
     ]
    },
    {
     "data": {
      "text/plain": [
       "[]"
      ]
     },
     "execution_count": 12,
     "metadata": {},
     "output_type": "execute_result"
    }
   ],
   "source": [
    "%%sql\n",
    "COPY charlotteuser from '/home/jovyan/data/Yelp/charlotte_user.csv'\n",
    "DELIMITER ',' CSV HEADER;"
   ]
  },
  {
   "cell_type": "code",
   "execution_count": 54,
   "metadata": {
    "kernel": "Python 3",
    "scrolled": true
   },
   "outputs": [
    {
     "name": "stdout",
     "output_type": "stream",
     "text": [
      " * postgres://postgres@localhost/postgres\n",
      "1 rows affected.\n"
     ]
    },
    {
     "data": {
      "text/html": [
       "<table>\n",
       "    <tr>\n",
       "        <th>user_id</th>\n",
       "        <th>name</th>\n",
       "        <th>review_count</th>\n",
       "        <th>yelping_since</th>\n",
       "        <th>friends</th>\n",
       "        <th>useful</th>\n",
       "        <th>funny</th>\n",
       "        <th>cool</th>\n",
       "        <th>fans</th>\n",
       "        <th>elite</th>\n",
       "        <th>average_stars</th>\n",
       "        <th>compliment_hot</th>\n",
       "        <th>compliment_more</th>\n",
       "        <th>compliment_profile</th>\n",
       "        <th>compliment_cute</th>\n",
       "        <th>compliment_list</th>\n",
       "        <th>compliment_note</th>\n",
       "        <th>compliment_plain</th>\n",
       "        <th>compliment_cool</th>\n",
       "        <th>compliment_funny</th>\n",
       "        <th>compliment_writer</th>\n",
       "        <th>compliment_photos</th>\n",
       "    </tr>\n",
       "    <tr>\n",
       "        <td>nsS4oDfOsl20QdWc6XcOkw</td>\n",
       "        <td>Cindi</td>\n",
       "        <td>28</td>\n",
       "        <td>2009-04-27</td>\n",
       "        <td>fWCNb0fD-ysL85umLrjCNA, 4Tawn1t3QJq8-J9QOpMybw, 9Cp1VdBZo3mM7QtpwSOAlg, uyAWDUEKB2vmOnAx_bUu2A, -pkPYxUimahRvUq0tDSi1g, b0DtZ4Rf8Goa8NkmSAmqYg, PPwQmnDAkpX1dcMdGjAZ8A, aFOGzyASfWNzroYR8ANleA, YrNewb6wIKv4l-fMTeXgKQ, zLb8lbC3NflSSYF3-Y6jTw, 7RSACMhtr2ru3v92ssoRbw, HnPkkVWLeez13qbYongrxA, z2uygj9C9KximfOJPrijrw, Sq85GJb7D0Xd5fLpuyL56A, ChaoxQP1BBSgbRpMcHJqWw, XQsOfX0Xwk6C7aolDS7-Ww, AqSEgcX6krSpqwO_TyXdgg, ZP39INIUCLBWWhdeb_32hg, -rlIN1BFK65MyHWt_HhPJg, QmethzRyAvZXS9m1UNJpdw, AMWBK4rpp5NZa6xt6NrOKw, 7jDIaU1AncZ3-82k2_neTw, RHOWqNk679LUIa1gXDtX9Q, nHsk4q5P3duImwNh8UtsiQ, yWvO1Y-si6HmWiwWawd8_g, Yo12Yp1u2lQdAtyjgQKEaw, BTVJYHJtTvFdPOOZNKzrNQ, 45QXu4kz6PhK6zcmZGoJqQ, 19rAfR1dYymJfhgQZfoo9A, nls8z8Wup-4FUyEtqfDSWA, bjeutWb2fMO454NHyiMpxA</td>\n",
       "        <td>23</td>\n",
       "        <td>7</td>\n",
       "        <td>3</td>\n",
       "        <td>1</td>\n",
       "        <td>NA</td>\n",
       "        <td>2.48</td>\n",
       "        <td>0</td>\n",
       "        <td>0</td>\n",
       "        <td>0</td>\n",
       "        <td>0</td>\n",
       "        <td>0</td>\n",
       "        <td>0</td>\n",
       "        <td>0</td>\n",
       "        <td>0</td>\n",
       "        <td>0</td>\n",
       "        <td>1</td>\n",
       "        <td>0</td>\n",
       "    </tr>\n",
       "</table>"
      ],
      "text/plain": [
       "[('nsS4oDfOsl20QdWc6XcOkw', 'Cindi', 28, datetime.date(2009, 4, 27), 'fWCNb0fD-ysL85umLrjCNA, 4Tawn1t3QJq8-J9QOpMybw, 9Cp1VdBZo3mM7QtpwSOAlg, uyAWDUEKB2vmOnAx_bUu2A, -pkPYxUimahRvUq0tDSi1g, b0DtZ4Rf8Goa8NkmSAmqYg, PPwQm ... (444 characters truncated) ... wd8_g, Yo12Yp1u2lQdAtyjgQKEaw, BTVJYHJtTvFdPOOZNKzrNQ, 45QXu4kz6PhK6zcmZGoJqQ, 19rAfR1dYymJfhgQZfoo9A, nls8z8Wup-4FUyEtqfDSWA, bjeutWb2fMO454NHyiMpxA', 23, 7, 3, 1, 'NA', Decimal('2.48'), 0, 0, 0, 0, 0, 0, 0, 0, 0, 1, 0)]"
      ]
     },
     "execution_count": 54,
     "metadata": {},
     "output_type": "execute_result"
    }
   ],
   "source": [
    "%%sql\n",
    "SELECT *\n",
    "FROM charlotteuser\n",
    "LIMIT 1;"
   ]
  },
  {
   "cell_type": "code",
   "execution_count": 14,
   "metadata": {
    "kernel": "Python 3"
   },
   "outputs": [
    {
     "name": "stdout",
     "output_type": "stream",
     "text": [
      " * postgres://postgres@localhost/postgres\n",
      "Done.\n"
     ]
    },
    {
     "data": {
      "text/plain": [
       "[]"
      ]
     },
     "execution_count": 14,
     "metadata": {},
     "output_type": "execute_result"
    }
   ],
   "source": [
    "%%sql\n",
    "CREATE TABLE charlottebusiness\n",
    "( \n",
    "  business_id text,\n",
    "  name text,\n",
    "  address text,\n",
    "  city text,\n",
    "  state text,\n",
    "  postal_code text,\n",
    "  latitude numeric,\n",
    "  longitude numeric,\n",
    "  stars numeric,\n",
    "    review_count integer,\n",
    "    is_open integer,\n",
    "    categories text\n",
    ");"
   ]
  },
  {
   "cell_type": "code",
   "execution_count": 15,
   "metadata": {
    "kernel": "Python 3"
   },
   "outputs": [
    {
     "name": "stdout",
     "output_type": "stream",
     "text": [
      " * postgres://postgres@localhost/postgres\n",
      "9511 rows affected.\n"
     ]
    },
    {
     "data": {
      "text/plain": [
       "[]"
      ]
     },
     "execution_count": 15,
     "metadata": {},
     "output_type": "execute_result"
    }
   ],
   "source": [
    "%%sql\n",
    "COPY charlottebusiness from '/home/jovyan/data/Yelp/charlotte_business.csv'\n",
    "DELIMITER ',' CSV HEADER ENCODING 'windows-1251';"
   ]
  },
  {
   "cell_type": "code",
   "execution_count": 16,
   "metadata": {
    "kernel": "Python 3"
   },
   "outputs": [
    {
     "name": "stdout",
     "output_type": "stream",
     "text": [
      " * postgres://postgres@localhost/postgres\n",
      "5 rows affected.\n"
     ]
    },
    {
     "data": {
      "text/html": [
       "<table>\n",
       "    <tr>\n",
       "        <th>business_id</th>\n",
       "        <th>name</th>\n",
       "        <th>address</th>\n",
       "        <th>city</th>\n",
       "        <th>state</th>\n",
       "        <th>postal_code</th>\n",
       "        <th>latitude</th>\n",
       "        <th>longitude</th>\n",
       "        <th>stars</th>\n",
       "        <th>review_count</th>\n",
       "        <th>is_open</th>\n",
       "        <th>categories</th>\n",
       "    </tr>\n",
       "    <tr>\n",
       "        <td>gnKjwL_1w79qoiV3IC_xQQ</td>\n",
       "        <td>Musashi Japanese Restaurant</td>\n",
       "        <td>10110 Johnston Rd, Ste 15</td>\n",
       "        <td>Charlotte</td>\n",
       "        <td>NC</td>\n",
       "        <td>28210</td>\n",
       "        <td>35.092564</td>\n",
       "        <td>-80.859132</td>\n",
       "        <td>4</td>\n",
       "        <td>170</td>\n",
       "        <td>1</td>\n",
       "        <td>Sushi Bars, Restaurants, Japanese</td>\n",
       "    </tr>\n",
       "    <tr>\n",
       "        <td>HhyxOkGAM07SRYtlQ4wMFQ</td>\n",
       "        <td>Queen City Plumbing</td>\n",
       "        <td>4209 Stuart Andrew Blvd, Ste F</td>\n",
       "        <td>Charlotte</td>\n",
       "        <td>NC</td>\n",
       "        <td>28217</td>\n",
       "        <td>35.1900119</td>\n",
       "        <td>-80.8872232</td>\n",
       "        <td>4</td>\n",
       "        <td>4</td>\n",
       "        <td>1</td>\n",
       "        <td>Plumbing, Shopping, Local Services, Home Services, Kitchen &amp; Bath, Home &amp; Garden, Water Heater Installation/Repair</td>\n",
       "    </tr>\n",
       "    <tr>\n",
       "        <td>irft4YkdNsww4DNf_Aftew</td>\n",
       "        <td>So Cool Frozen Yogurt</td>\n",
       "        <td>9020 B Albemarle Rd</td>\n",
       "        <td>Charlotte</td>\n",
       "        <td>NC</td>\n",
       "        <td>28227</td>\n",
       "        <td>35.21051</td>\n",
       "        <td>-80.690262</td>\n",
       "        <td>4.5</td>\n",
       "        <td>6</td>\n",
       "        <td>0</td>\n",
       "        <td>Juice Bars &amp; Smoothies, Food, Ice Cream &amp; Frozen Yogurt</td>\n",
       "    </tr>\n",
       "    <tr>\n",
       "        <td>BvYU3jvGd0TJ7IyZdfiN2Q</td>\n",
       "        <td>Manzetti&#x27;s Tavern</td>\n",
       "        <td>6401 Morrison Blvd</td>\n",
       "        <td>Charlotte</td>\n",
       "        <td>NC</td>\n",
       "        <td>28211</td>\n",
       "        <td>35.156338</td>\n",
       "        <td>-80.831878</td>\n",
       "        <td>3.5</td>\n",
       "        <td>16</td>\n",
       "        <td>0</td>\n",
       "        <td>Sandwiches, Italian, American (Traditional), American (New), Seafood, Steakhouses, Restaurants</td>\n",
       "    </tr>\n",
       "    <tr>\n",
       "        <td>Qnz3ywR7BosTr8qDk6G-Pw</td>\n",
       "        <td>Mattress Firm Final Markdown</td>\n",
       "        <td>13129 S Tryon St, Ste 120</td>\n",
       "        <td>Charlotte</td>\n",
       "        <td>NC</td>\n",
       "        <td>28278</td>\n",
       "        <td>35.1007253747</td>\n",
       "        <td>-80.9920791686</td>\n",
       "        <td>5</td>\n",
       "        <td>4</td>\n",
       "        <td>1</td>\n",
       "        <td>Home &amp; Garden, Mattresses, Home Decor, Furniture Stores, Shopping</td>\n",
       "    </tr>\n",
       "</table>"
      ],
      "text/plain": [
       "[('gnKjwL_1w79qoiV3IC_xQQ', 'Musashi Japanese Restaurant', '10110 Johnston Rd, Ste 15', 'Charlotte', 'NC', '28210', Decimal('35.092564'), Decimal('-80.859132'), Decimal('4'), 170, 1, 'Sushi Bars, Restaurants, Japanese'),\n",
       " ('HhyxOkGAM07SRYtlQ4wMFQ', 'Queen City Plumbing', '4209 Stuart Andrew Blvd, Ste F', 'Charlotte', 'NC', '28217', Decimal('35.1900119'), Decimal('-80.8872232'), Decimal('4'), 4, 1, 'Plumbing, Shopping, Local Services, Home Services, Kitchen & Bath, Home & Garden, Water Heater Installation/Repair'),\n",
       " ('irft4YkdNsww4DNf_Aftew', 'So Cool Frozen Yogurt', '9020 B Albemarle Rd', 'Charlotte', 'NC', '28227', Decimal('35.21051'), Decimal('-80.690262'), Decimal('4.5'), 6, 0, 'Juice Bars & Smoothies, Food, Ice Cream & Frozen Yogurt'),\n",
       " ('BvYU3jvGd0TJ7IyZdfiN2Q', \"Manzetti's Tavern\", '6401 Morrison Blvd', 'Charlotte', 'NC', '28211', Decimal('35.156338'), Decimal('-80.831878'), Decimal('3.5'), 16, 0, 'Sandwiches, Italian, American (Traditional), American (New), Seafood, Steakhouses, Restaurants'),\n",
       " ('Qnz3ywR7BosTr8qDk6G-Pw', 'Mattress Firm Final Markdown', '13129 S Tryon St, Ste 120', 'Charlotte', 'NC', '28278', Decimal('35.1007253747'), Decimal('-80.9920791686'), Decimal('5'), 4, 1, 'Home & Garden, Mattresses, Home Decor, Furniture Stores, Shopping')]"
      ]
     },
     "execution_count": 16,
     "metadata": {},
     "output_type": "execute_result"
    }
   ],
   "source": [
    "%%sql\n",
    "SELECT *\n",
    "FROM charlottebusiness\n",
    "LIMIT 5;"
   ]
  },
  {
   "cell_type": "code",
   "execution_count": 17,
   "metadata": {
    "kernel": "Python 3"
   },
   "outputs": [
    {
     "name": "stdout",
     "output_type": "stream",
     "text": [
      " * postgres://postgres@localhost/postgres\n",
      "Done.\n"
     ]
    },
    {
     "data": {
      "text/plain": [
       "[]"
      ]
     },
     "execution_count": 17,
     "metadata": {},
     "output_type": "execute_result"
    }
   ],
   "source": [
    "%%sql\n",
    "-- create a new table\n",
    "CREATE TABLE charlottereview\n",
    "( \n",
    "  business_id text,\n",
    "  review_id text,\n",
    "  user_id text,\n",
    "  stars integer,\n",
    "  _date date,\n",
    "  comment text,\n",
    "  useful integer,\n",
    "  funny integer,\n",
    "  cool integer\n",
    ");"
   ]
  },
  {
   "cell_type": "code",
   "execution_count": 18,
   "metadata": {
    "kernel": "Python 3"
   },
   "outputs": [
    {
     "name": "stdout",
     "output_type": "stream",
     "text": [
      " * postgres://postgres@localhost/postgres\n",
      "309533 rows affected.\n"
     ]
    },
    {
     "data": {
      "text/plain": [
       "[]"
      ]
     },
     "execution_count": 18,
     "metadata": {},
     "output_type": "execute_result"
    }
   ],
   "source": [
    "%%sql\n",
    "COPY charlottereview from '/home/jovyan/data/Yelp/charlotte_review.csv'\n",
    "DELIMITER ',' CSV HEADER;"
   ]
  },
  {
   "cell_type": "code",
   "execution_count": 55,
   "metadata": {
    "kernel": "Python 3",
    "scrolled": true
   },
   "outputs": [
    {
     "name": "stdout",
     "output_type": "stream",
     "text": [
      " * postgres://postgres@localhost/postgres\n",
      "2 rows affected.\n"
     ]
    },
    {
     "data": {
      "text/html": [
       "<table>\n",
       "    <tr>\n",
       "        <th>business_id</th>\n",
       "        <th>review_id</th>\n",
       "        <th>user_id</th>\n",
       "        <th>stars</th>\n",
       "        <th>_date</th>\n",
       "        <th>comment</th>\n",
       "        <th>useful</th>\n",
       "        <th>funny</th>\n",
       "        <th>cool</th>\n",
       "    </tr>\n",
       "    <tr>\n",
       "        <td>gnKjwL_1w79qoiV3IC_xQQ</td>\n",
       "        <td>F7POrJsNbhu493DSTMPXjw</td>\n",
       "        <td>nsS4oDfOsl20QdWc6XcOkw</td>\n",
       "        <td>2</td>\n",
       "        <td>2014-02-24</td>\n",
       "        <td>Husband was craving Chicken Teriyaki &amp; gyoza, so we found Musashi. I was very unimpressed. We started with gyoza and edamame. Neither were anything special. We then ordered a chicken teriyaki plate and a few sushi rolls. The chicken teriyaki was nothing more than some boiled chicken smothered in teriyaki sauce. Was not good at all. The sushi was mediocre at best. While they were friendly and the service was pretty good - I will not be back.</td>\n",
       "        <td>1</td>\n",
       "        <td>0</td>\n",
       "        <td>0</td>\n",
       "    </tr>\n",
       "    <tr>\n",
       "        <td>gnKjwL_1w79qoiV3IC_xQQ</td>\n",
       "        <td>c-6aA9Bd7JxpmMroRoas9A</td>\n",
       "        <td>bK4Y_GZUoAUTXIrmeEUGYw</td>\n",
       "        <td>4</td>\n",
       "        <td>2014-07-13</td>\n",
       "        <td>Went there Saturday noon they open at 12pm but people were waiting outside before 12pm so you can tell it should be a good place. Nice Katsu &amp; Eel with rice. Many Japanese go there.</td>\n",
       "        <td>0</td>\n",
       "        <td>0</td>\n",
       "        <td>1</td>\n",
       "    </tr>\n",
       "</table>"
      ],
      "text/plain": [
       "[('gnKjwL_1w79qoiV3IC_xQQ', 'F7POrJsNbhu493DSTMPXjw', 'nsS4oDfOsl20QdWc6XcOkw', 2, datetime.date(2014, 2, 24), 'Husband was craving Chicken Teriyaki & gyoza, so we found Musashi. I was very unimpressed. We started with gyoza and edamame. Neither were anything s ... (146 characters truncated) ... n teriyaki sauce. Was not good at all. The sushi was mediocre at best. While they were friendly and the service was pretty good - I will not be back.', 1, 0, 0),\n",
       " ('gnKjwL_1w79qoiV3IC_xQQ', 'c-6aA9Bd7JxpmMroRoas9A', 'bK4Y_GZUoAUTXIrmeEUGYw', 4, datetime.date(2014, 7, 13), 'Went there Saturday noon they open at 12pm but people were waiting outside before 12pm so you can tell it should be a good place. Nice Katsu & Eel with rice. Many Japanese go there.', 0, 0, 1)]"
      ]
     },
     "execution_count": 55,
     "metadata": {},
     "output_type": "execute_result"
    }
   ],
   "source": [
    "%%sql\n",
    "SELECT *\n",
    "FROM charlottereview\n",
    "LIMIT 2;"
   ]
  },
  {
   "cell_type": "markdown",
   "metadata": {
    "kernel": "Python 3"
   },
   "source": [
    "###Most active users in Charlotte"
   ]
  },
  {
   "cell_type": "code",
   "execution_count": 94,
   "metadata": {
    "kernel": "Python 3"
   },
   "outputs": [
    {
     "name": "stdout",
     "output_type": "stream",
     "text": [
      " * postgres://postgres@localhost/postgres\n",
      "5 rows affected.\n"
     ]
    },
    {
     "data": {
      "text/html": [
       "<table>\n",
       "    <tr>\n",
       "        <th>user_id</th>\n",
       "        <th>name</th>\n",
       "        <th>review_count</th>\n",
       "        <th>average_stars</th>\n",
       "    </tr>\n",
       "    <tr>\n",
       "        <td>hWDybu_KvYLSdEFzGrniTw</td>\n",
       "        <td>Bruce</td>\n",
       "        <td>10022</td>\n",
       "        <td>3.61</td>\n",
       "    </tr>\n",
       "    <tr>\n",
       "        <td>8RcEwGrFIgkt9WQ35E6SnQ</td>\n",
       "        <td>George</td>\n",
       "        <td>7750</td>\n",
       "        <td>3.49</td>\n",
       "    </tr>\n",
       "    <tr>\n",
       "        <td>Hi10sGSZNxQH3NLyWSZ1oA</td>\n",
       "        <td>Fox</td>\n",
       "        <td>6407</td>\n",
       "        <td>3.83</td>\n",
       "    </tr>\n",
       "    <tr>\n",
       "        <td>Xj0O2l0bp633ebmG468aZw</td>\n",
       "        <td>Andrew</td>\n",
       "        <td>4652</td>\n",
       "        <td>3.72</td>\n",
       "    </tr>\n",
       "    <tr>\n",
       "        <td>XYSDrIef7g4Gmp3lNFVO6A</td>\n",
       "        <td>Neal</td>\n",
       "        <td>4551</td>\n",
       "        <td>3.95</td>\n",
       "    </tr>\n",
       "</table>"
      ],
      "text/plain": [
       "[('hWDybu_KvYLSdEFzGrniTw', 'Bruce', 10022, Decimal('3.61')),\n",
       " ('8RcEwGrFIgkt9WQ35E6SnQ', 'George', 7750, Decimal('3.49')),\n",
       " ('Hi10sGSZNxQH3NLyWSZ1oA', 'Fox', 6407, Decimal('3.83')),\n",
       " ('Xj0O2l0bp633ebmG468aZw', 'Andrew', 4652, Decimal('3.72')),\n",
       " ('XYSDrIef7g4Gmp3lNFVO6A', 'Neal', 4551, Decimal('3.95'))]"
      ]
     },
     "execution_count": 94,
     "metadata": {},
     "output_type": "execute_result"
    }
   ],
   "source": [
    "%%sql\n",
    "SELECT user_id, name, review_count, average_stars\n",
    "FROM charlotteuser\n",
    "ORDER BY review_count DESC\n",
    "LIMIT 5;"
   ]
  },
  {
   "cell_type": "code",
   "execution_count": 46,
   "metadata": {
    "kernel": "Python 3"
   },
   "outputs": [
    {
     "name": "stdout",
     "output_type": "stream",
     "text": [
      " * postgres://postgres@localhost/postgres\n",
      "5 rows affected.\n"
     ]
    },
    {
     "data": {
      "text/html": [
       "<table>\n",
       "    <tr>\n",
       "        <th>business_id</th>\n",
       "        <th>count</th>\n",
       "    </tr>\n",
       "    <tr>\n",
       "        <td>yymNrvk1cioG5Bn5lWH2QQ</td>\n",
       "        <td>3</td>\n",
       "    </tr>\n",
       "    <tr>\n",
       "        <td>3dK3PIfmu09FFGi21QYPaA</td>\n",
       "        <td>2</td>\n",
       "    </tr>\n",
       "    <tr>\n",
       "        <td>0D6NKcLzVfQ3RcEPySmzDw</td>\n",
       "        <td>2</td>\n",
       "    </tr>\n",
       "    <tr>\n",
       "        <td>0DaSqjKtm8JJEv2nmL4cgw</td>\n",
       "        <td>2</td>\n",
       "    </tr>\n",
       "    <tr>\n",
       "        <td>1pkPaUtCoVP8Wzf9EXE7og</td>\n",
       "        <td>2</td>\n",
       "    </tr>\n",
       "</table>"
      ],
      "text/plain": [
       "[('yymNrvk1cioG5Bn5lWH2QQ', 3),\n",
       " ('3dK3PIfmu09FFGi21QYPaA', 2),\n",
       " ('0D6NKcLzVfQ3RcEPySmzDw', 2),\n",
       " ('0DaSqjKtm8JJEv2nmL4cgw', 2),\n",
       " ('1pkPaUtCoVP8Wzf9EXE7og', 2)]"
      ]
     },
     "execution_count": 46,
     "metadata": {},
     "output_type": "execute_result"
    }
   ],
   "source": [
    "%%sql\n",
    "SELECT business_id, count(business_id) as count\n",
    "FROM charlottereview\n",
    "WHERE user_id ='hWDybu_KvYLSdEFzGrniTw'\n",
    "GROUP BY business_id\n",
    "ORDER BY count(business_id) DESC\n",
    "LIMIT 5;"
   ]
  },
  {
   "cell_type": "markdown",
   "metadata": {
    "kernel": "Python 3"
   },
   "source": [
    "###Favorite Unique Location of most active user \n",
    "\n",
    "####Data is grouped by business ID, so the counts are low"
   ]
  },
  {
   "cell_type": "code",
   "execution_count": 45,
   "metadata": {
    "kernel": "Python 3"
   },
   "outputs": [
    {
     "name": "stdout",
     "output_type": "stream",
     "text": [
      " * postgres://postgres@localhost/postgres\n",
      "5 rows affected.\n"
     ]
    },
    {
     "data": {
      "text/html": [
       "<table>\n",
       "    <tr>\n",
       "        <th>name</th>\n",
       "        <th>count</th>\n",
       "    </tr>\n",
       "    <tr>\n",
       "        <td>Wild Wing Cafe</td>\n",
       "        <td>3</td>\n",
       "    </tr>\n",
       "    <tr>\n",
       "        <td>Hickory Tavern</td>\n",
       "        <td>2</td>\n",
       "    </tr>\n",
       "    <tr>\n",
       "        <td>Masa Sushi &amp; Asian Grill</td>\n",
       "        <td>2</td>\n",
       "    </tr>\n",
       "    <tr>\n",
       "        <td>Hissho Sushi At First In Flight Bar</td>\n",
       "        <td>2</td>\n",
       "    </tr>\n",
       "    <tr>\n",
       "        <td>US Post Office</td>\n",
       "        <td>2</td>\n",
       "    </tr>\n",
       "</table>"
      ],
      "text/plain": [
       "[('Wild Wing Cafe', 3),\n",
       " ('Hickory Tavern', 2),\n",
       " ('Masa Sushi & Asian Grill', 2),\n",
       " ('Hissho Sushi At First In Flight Bar', 2),\n",
       " ('US Post Office', 2)]"
      ]
     },
     "execution_count": 45,
     "metadata": {},
     "output_type": "execute_result"
    }
   ],
   "source": [
    "%%sql\n",
    "SELECT cb.name, count(cb.business_id) as count  \n",
    "FROM\n",
    "(\n",
    "SELECT business_id\n",
    "FROM charlottereview\n",
    "WHERE user_id = 'hWDybu_KvYLSdEFzGrniTw'\n",
    ")subq1\n",
    "LEFT JOIN charlottebusiness cb USING(business_id)\n",
    "GROUP BY cb.business_id, cb.name\n",
    "ORDER BY count(cb.business_id) DESC\n",
    "LIMIT 5;"
   ]
  },
  {
   "cell_type": "markdown",
   "metadata": {
    "kernel": "Python 3"
   },
   "source": [
    "###Favorite Location of most active user \n",
    "\n",
    "####Data is grouped by name so it's independent of the ID number. As a result, he is fan of Starbucks."
   ]
  },
  {
   "cell_type": "code",
   "execution_count": 53,
   "metadata": {
    "kernel": "Python 3"
   },
   "outputs": [
    {
     "name": "stdout",
     "output_type": "stream",
     "text": [
      " * postgres://postgres@localhost/postgres\n",
      "5 rows affected.\n"
     ]
    },
    {
     "data": {
      "text/html": [
       "<table>\n",
       "    <tr>\n",
       "        <th>name</th>\n",
       "        <th>count</th>\n",
       "    </tr>\n",
       "    <tr>\n",
       "        <td>Starbucks</td>\n",
       "        <td>25</td>\n",
       "    </tr>\n",
       "    <tr>\n",
       "        <td>Harris Teeter</td>\n",
       "        <td>20</td>\n",
       "    </tr>\n",
       "    <tr>\n",
       "        <td>McDonald&#x27;s</td>\n",
       "        <td>14</td>\n",
       "    </tr>\n",
       "    <tr>\n",
       "        <td>Rite Aid</td>\n",
       "        <td>8</td>\n",
       "    </tr>\n",
       "    <tr>\n",
       "        <td>Target</td>\n",
       "        <td>8</td>\n",
       "    </tr>\n",
       "</table>"
      ],
      "text/plain": [
       "[('Starbucks', 25),\n",
       " ('Harris Teeter', 20),\n",
       " (\"McDonald's\", 14),\n",
       " ('Rite Aid', 8),\n",
       " ('Target', 8)]"
      ]
     },
     "execution_count": 53,
     "metadata": {},
     "output_type": "execute_result"
    }
   ],
   "source": [
    "%%sql\n",
    "SELECT cb.name, count(cb.name) as count  \n",
    "FROM\n",
    "(\n",
    "SELECT business_id\n",
    "FROM charlottereview\n",
    "WHERE user_id = 'hWDybu_KvYLSdEFzGrniTw'\n",
    ")subq1\n",
    "LEFT JOIN charlottebusiness cb USING(business_id)\n",
    "GROUP BY cb.name\n",
    "ORDER BY count(cb.name) DESC\n",
    "LIMIT 5;"
   ]
  },
  {
   "cell_type": "markdown",
   "metadata": {
    "kernel": "Python 3"
   },
   "source": [
    "###Most reviewed businesses and average stars"
   ]
  },
  {
   "cell_type": "code",
   "execution_count": 51,
   "metadata": {
    "kernel": "Python 3"
   },
   "outputs": [
    {
     "name": "stdout",
     "output_type": "stream",
     "text": [
      " * postgres://postgres@localhost/postgres\n",
      "6 rows affected.\n"
     ]
    },
    {
     "data": {
      "text/html": [
       "<table>\n",
       "    <tr>\n",
       "        <th>name</th>\n",
       "        <th>review_count</th>\n",
       "        <th>stars</th>\n",
       "    </tr>\n",
       "    <tr>\n",
       "        <td>Charlotte Douglas International Airport</td>\n",
       "        <td>1834</td>\n",
       "        <td>3.5</td>\n",
       "    </tr>\n",
       "    <tr>\n",
       "        <td>The Cowfish Sushi Burger Bar</td>\n",
       "        <td>1572</td>\n",
       "        <td>4</td>\n",
       "    </tr>\n",
       "    <tr>\n",
       "        <td>Amйlie&#x27;s French Bakery &amp; Cafй</td>\n",
       "        <td>1566</td>\n",
       "        <td>4</td>\n",
       "    </tr>\n",
       "    <tr>\n",
       "        <td>Tupelo Honey</td>\n",
       "        <td>1502</td>\n",
       "        <td>4</td>\n",
       "    </tr>\n",
       "    <tr>\n",
       "        <td>Midwood Smokehouse</td>\n",
       "        <td>1474</td>\n",
       "        <td>4.5</td>\n",
       "    </tr>\n",
       "    <tr>\n",
       "        <td>Cabo Fish Taco</td>\n",
       "        <td>1095</td>\n",
       "        <td>4</td>\n",
       "    </tr>\n",
       "</table>"
      ],
      "text/plain": [
       "[('Charlotte Douglas International Airport', 1834, Decimal('3.5')),\n",
       " ('The Cowfish Sushi Burger Bar', 1572, Decimal('4')),\n",
       " (\"Amйlie's French Bakery & Cafй\", 1566, Decimal('4')),\n",
       " ('Tupelo Honey', 1502, Decimal('4')),\n",
       " ('Midwood Smokehouse', 1474, Decimal('4.5')),\n",
       " ('Cabo Fish Taco', 1095, Decimal('4'))]"
      ]
     },
     "execution_count": 51,
     "metadata": {},
     "output_type": "execute_result"
    }
   ],
   "source": [
    "%%sql\n",
    "SELECT name, review_count, stars\n",
    "FROM charlottebusiness\n",
    "WHERE review_count >= 1000\n",
    "ORDER BY review_count DESC;"
   ]
  }
 ],
 "metadata": {
  "kernelspec": {
   "display_name": "SoS",
   "language": "sos",
   "name": "sos"
  },
  "language_info": {
   "codemirror_mode": "sos",
   "file_extension": ".sos",
   "mimetype": "text/x-sos",
   "name": "sos",
   "nbconvert_exporter": "sos_notebook.converter.SoS_Exporter",
   "pygments_lexer": "sos"
  },
  "sos": {
   "kernels": [
    [
     "Bash",
     "bash",
     "bash",
     "",
     ""
    ],
    [
     "Python 3",
     "python3",
     "python3",
     "",
     ""
    ]
   ],
   "panel": {
    "displayed": false,
    "height": 0
   },
   "version": "0.21.0"
  },
  "toc": {
   "base_numbering": 1,
   "nav_menu": {},
   "number_sections": true,
   "sideBar": true,
   "skip_h1_title": false,
   "title_cell": "Table of Contents",
   "title_sidebar": "Contents",
   "toc_cell": false,
   "toc_position": {},
   "toc_section_display": true,
   "toc_window_display": false
  }
 },
 "nbformat": 4,
 "nbformat_minor": 2
}
